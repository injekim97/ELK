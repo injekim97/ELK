{
 "cells": [
  {
   "cell_type": "code",
   "execution_count": 30,
   "id": "da67d5a2",
   "metadata": {},
   "outputs": [
    {
     "name": "stdout",
     "output_type": "stream",
     "text": [
      "=======성공적으로 json data 삽입을 완료하였습니다.=====\n"
     ]
    }
   ],
   "source": [
    "import pymysql\n",
    "import json\n",
    "\n",
    "\n",
    "# Azure or AWS DB 연동\n",
    "def get_db():\n",
    "    db = pymysql.connect(\n",
    "        host='mysql.monorama.kr',\n",
    "        port=3306,\n",
    "        user='admin',\n",
    "        passwd='1/zw;GytAwx*',\n",
    "        db='AIR',\n",
    "        charset='utf8'\n",
    "    )\n",
    "    return db\n",
    "     \n",
    "\n",
    "\n",
    "# json data insert\n",
    "def insert_json_data():\n",
    "    \n",
    "    db = get_db()\n",
    "    mycursor = db.cursor()\n",
    "\n",
    "        \n",
    "    json_data = open(\"C:\\\\Temp\\\\0803air.json\").read()\n",
    "    json_obj = json.loads(json_data)\n",
    "\n",
    "    try :\n",
    "\n",
    "        for item in json_obj:\n",
    "            #print(item)\n",
    "            SerialNum = item.get(\"serialNum\")\n",
    "            Co2 = item.get(\"co2\")\n",
    "            Humid = item.get(\"humid\")\n",
    "            Pm10 = item.get(\"pm10\")\n",
    "            Pm5 = item.get(\"pm5\")\n",
    "            Temp = item.get(\"temp\")\n",
    "            Vocs = item.get(\"vocs\")\n",
    "            timeZone = item.get(\"timeZone\")\n",
    "            ReportTime = item.get(\"reportTime\")\n",
    "            Lat = item.get(\"lat\")\n",
    "            Lng = item.get(\"long\")\n",
    "            \n",
    "            \n",
    "            # json 데이터 넣을 떄, insert into table명(table 컬럼 순서대로) value (%s,%s,%s,%s) ★★★ 꼭 %s 후 , 콤마 찍어줘야함 ★★★ \n",
    "            # 그런 후에, 파일을 읽어오기 때문에 뒤에 괄호를 치고, 위에 for문으로 불러드린 json파일의 컬럼 값들을 가져와서 저장해주는 것임\n",
    "\n",
    "            mycursor.execute(\"insert into 0804_AIR_JSON(SerialNum,Co2,Humid,Pm10,Pm5,Temp,Vocs,timeZone,ReportTime,Lat,Lng) value (%s ,%s, %s, %s, %s, %s, %s, %s, %s, %s, %s)\",(SerialNum,Co2,Humid,Pm10,Pm5,Temp,Vocs,timeZone,ReportTime,Lat,Lng))\n",
    "            \n",
    "            \n",
    "        db.commit()\n",
    "        db.close()\n",
    "        \n",
    "        print(\"=======성공적으로 json data 삽입을 완료하였습니다.=====\")\n",
    "\n",
    "            \n",
    "    except Exception as e:\n",
    "        print(\"json 데이터 삽입 실패\",e)\n",
    "        db.close()\n",
    "    \n",
    "\n",
    "# ----------------------------------- main --------------------------------\n",
    "insert_json_data()"
   ]
  },
  {
   "cell_type": "code",
   "execution_count": null,
   "id": "c0daa0c7",
   "metadata": {},
   "outputs": [],
   "source": []
  }
 ],
 "metadata": {
  "kernelspec": {
   "display_name": "Python 3",
   "language": "python",
   "name": "python3"
  },
  "language_info": {
   "codemirror_mode": {
    "name": "ipython",
    "version": 3
   },
   "file_extension": ".py",
   "mimetype": "text/x-python",
   "name": "python",
   "nbconvert_exporter": "python",
   "pygments_lexer": "ipython3",
   "version": "3.8.8"
  }
 },
 "nbformat": 4,
 "nbformat_minor": 5
}
